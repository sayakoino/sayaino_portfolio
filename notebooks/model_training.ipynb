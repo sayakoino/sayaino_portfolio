conda install -c conda-forge librosa

import pandas as pd
from sklearn.model_selection import train_test_split
from sklearn.metrics import accuracy_score
from sklearn.impute import SimpleImputer
from sklearn.neural_network import MLPClassifier
from sklearn.preprocessing import StandardScaler
import warnings
import numpy as np

warnings.simplefilter(action='ignore', category=FutureWarning)

# データを読み込んでラベルを割り当てる
df1 = pd.read_csv("/Users/sayakoinoue/Documents/rimas/result_MDD_24July_with_features.csv").assign(label=1)
df2 = pd.read_csv("/Users/sayakoinoue/Documents/rimas/result_HC_24July_with_features.csv").assign(label=0)

# データフレームを連結
df = pd.concat([df1, df2], ignore_index=True)

# 性別情報を数値に変換 (M -> 1, F -> 0)
df['gender'] = df['gender'].map({'M': 1, 'F': 0})

# 特徴行列とラベルを定義
X, y = df[['count', 'gender', 'mean', 'std', 'min', '25%', '50%', '75%', 'max', 
           'mfcc_1', 'mfcc_2', 'mfcc_3', 'mfcc_4', 'mfcc_5', 'mfcc_6', 'mfcc_7', 'mfcc_8', 
           'mfcc_9', 'mfcc_10', 'mfcc_11', 'mfcc_12', 'mfcc_13', 
           'mfcc_std_1', 'mfcc_std_2', 'mfcc_std_3', 'mfcc_std_4', 'mfcc_std_5', 'mfcc_std_6', 
           'mfcc_std_7', 'mfcc_std_8', 'mfcc_std_9', 'mfcc_std_10', 'mfcc_std_11', 'mfcc_std_12', 'mfcc_std_13', 
           'zcr_mean']], df['label']

# 欠損値を平均で補完
imputer = SimpleImputer(strategy='mean')
X_imputed = imputer.fit_transform(X)

# 特徴量を標準化
scaler = StandardScaler()
X_scaled = scaler.fit_transform(X_imputed)

# データをトレーニングセットとテストセットに分割する
X_train, X_test, y_train, y_test = train_test_split(X_scaled, y, test_size=0.2, random_state=42)

# MLP分類機を構築してトレーニングする
mlp_model = MLPClassifier(hidden_layer_sizes=(100, 50), activation='relu', solver='adam', 
                          alpha=0.0001, batch_size='auto', learning_rate='adaptive', 
                          max_iter=1000, random_state=42)
mlp_model.fit(X_train, y_train)

# トレーニングセットで予測を行い、精度を評価
train_accuracy = accuracy_score(y_train, mlp_model.predict(X_train))
print("Train Accuracy:", train_accuracy)

# テストセットで予測を行い、精度を評価
test_accuracy = accuracy_score(y_test, mlp_model.predict(X_test))
print("Test Accuracy:", test_accuracy)
